{
  "nbformat": 4,
  "nbformat_minor": 0,
  "metadata": {
    "colab": {
      "provenance": []
    },
    "kernelspec": {
      "name": "python3",
      "display_name": "Python 3"
    },
    "language_info": {
      "name": "python"
    }
  },
  "cells": [
    {
      "cell_type": "code",
      "source": [
        "!python -m spacy download pt_core_news_sm\n",
        "!pip install sumy\n"
      ],
      "metadata": {
        "id": "ZZhrRUE0-d5F"
      },
      "execution_count": null,
      "outputs": []
    },
    {
      "cell_type": "code",
      "source": [
        "import nltk\n",
        "nltk.download('punkt')\n",
        "nltk.download('averaged_perceptron_tagger')\n"
      ],
      "metadata": {
        "id": "GgnDRm2M9wc4"
      },
      "execution_count": null,
      "outputs": []
    },
    {
      "cell_type": "code",
      "source": [
        "from nltk.tokenize import word_tokenize, sent_tokenize\n",
        "\n",
        "# Texto fornecido\n",
        "texto = \"Aurora's Realm: The Enchanted Adventure narra a história de Liam, Elena e sua filha Aurora em um mundo mágico onde elfos, fadas e humanos vivem em harmonia. Quando um feiticeiro das trevas chamado Malachai ameaça o equilíbrio, Liam e Elena se unem a um grupo de heróis para derrotá-lo. Após vencer Malachai, uma reviravolta sombria acontece quando um seguidor do feiticeiro sequestra Aurora, desencadeando uma nova jornada de perigos e desafios. Com a ajuda de aliados, Liam e Elena enfrentam tribos poderosas e reúnem forças para resgatar sua filha e restaurar a paz. Na nova era do jogo, os jogadores exploram o mundo mágico, participam de batalhas, formam laços familiares e de amizade, além de poderem se envolver em atividades como pesca e cultivo de jardins. Com cada desafio enfrentado, os jogadores desenvolvem suas habilidades e se tornam parte de uma aventura emocionante e encantadora em Aurora's Realm - O Mundo dos Sonhos.\"\n",
        "\n",
        "# Tokenização de palavras\n",
        "tokens_palavras = word_tokenize(texto)\n",
        "\n",
        "# Tokenização de sentenças\n",
        "tokens_sentencas = sent_tokenize(texto)\n",
        "\n",
        "print(\"Tokens de palavras:\", tokens_palavras)\n",
        "print(\"Tokens de sentenças:\", tokens_sentencas)\n"
      ],
      "metadata": {
        "id": "l0x26xDV8buW"
      },
      "execution_count": null,
      "outputs": []
    },
    {
      "cell_type": "code",
      "source": [
        "import spacy\n",
        "\n",
        "# Carregando modelo pré-treinado em português\n",
        "nlp = spacy.load(\"pt_core_news_sm\")\n",
        "\n",
        "# Texto fornecido\n",
        "texto = \"Aurora's Realm: The Enchanted Adventure narra a história de Liam, Elena e sua filha Aurora em um mundo mágico onde elfos, fadas e humanos vivem em harmonia. Quando um feiticeiro das trevas chamado Malachai ameaça o equilíbrio, Liam e Elena se unem a um grupo de heróis para derrotá-lo. Após vencer Malachai, uma reviravolta sombria acontece quando um seguidor do feiticeiro sequestra Aurora, desencadeando uma nova jornada de perigos e desafios. Com a ajuda de aliados, Liam e Elena enfrentam tribos poderosas e reúnem forças para resgatar sua filha e restaurar a paz. Na nova era do jogo, os jogadores exploram o mundo mágico, participam de batalhas, formam laços familiares e de amizade, além de poderem se envolver em atividades como pesca e cultivo de jardins. Com cada desafio enfrentado, os jogadores desenvolvem suas habilidades e se tornam parte de uma aventura emocionante e encantadora em Aurora's Realm - O Mundo dos Sonhos.\"\n",
        "\n",
        "# Processamento do texto\n",
        "doc = nlp(texto)\n",
        "\n",
        "# Identificação de entidades nomeadas\n",
        "entidades_nomeadas = [(ent.text, ent.label_) for ent in doc.ents]\n",
        "\n",
        "print(\"Entidades nomeadas identificadas:\", entidades_nomeadas)\n"
      ],
      "metadata": {
        "id": "YUfRg_GI8c3h"
      },
      "execution_count": null,
      "outputs": []
    },
    {
      "cell_type": "code",
      "source": [
        "from nltk import pos_tag\n",
        "\n",
        "# Tokenização de palavras\n",
        "tokens_palavras = word_tokenize(texto)\n",
        "\n",
        "# Análise de etiquetas gramaticais\n",
        "etiquetas_gramaticais = pos_tag(tokens_palavras)\n",
        "\n",
        "print(\"Etiquetas gramaticais das palavras:\", etiquetas_gramaticais)\n"
      ],
      "metadata": {
        "id": "i2Hb2arl8cuv"
      },
      "execution_count": null,
      "outputs": []
    },
    {
      "cell_type": "code",
      "source": [
        "from gensim.models import LdaModel\n",
        "from gensim.corpora import Dictionary\n",
        "\n",
        "# Documentos de exemplo\n",
        "documentos = [\"Este é um documento sobre análise de dados.\",\n",
        "              \"Análise de dados envolve processamento e interpretação de informações.\",\n",
        "              \"Processamento de linguagem natural é uma técnica importante para análise de dados.\"]\n",
        "\n",
        "# Tokenização de palavras\n",
        "tokens_documentos = [word_tokenize(doc) for doc in documentos]\n",
        "\n",
        "# Criação do dicionário de palavras\n",
        "dicionario = Dictionary(tokens_documentos)\n",
        "\n",
        "# Conversão para Bag of Words\n",
        "corpus = [dicionario.doc2bow(tokens) for tokens in tokens_documentos]\n",
        "\n",
        "# Modelo LDA\n",
        "modelo_lda = LdaModel(corpus, num_topics=2, id2word=dicionario)\n",
        "\n",
        "# Visualização dos tópicos\n",
        "for idx, topico in modelo_lda.print_topics(-1):\n",
        "    print(f\"Tópico {idx}: {topico}\")\n"
      ],
      "metadata": {
        "id": "luWg-QfP8cmW"
      },
      "execution_count": null,
      "outputs": []
    },
    {
      "cell_type": "code",
      "source": [
        "from sumy.parsers.plaintext import PlaintextParser\n",
        "from sumy.nlp.tokenizers import Tokenizer\n",
        "from sumy.summarizers.lsa import LsaSummarizer\n",
        "\n",
        "def resumir_texto(texto, num_sentencas=2):\n",
        "    # Crie um analisador de texto\n",
        "    parser = PlaintextParser.from_string(texto, Tokenizer(\"portuguese\"))\n",
        "\n",
        "    # Crie um sumarizador LSA\n",
        "    sumarizador = LsaSummarizer()\n",
        "\n",
        "    # Gere o resumo\n",
        "    resumo = sumarizador(parser.document, num_sentencas)\n",
        "\n",
        "    # Converta o resumo em uma string\n",
        "    resumo_texto = \" \".join([str(sentença) for sentença in resumo])\n",
        "\n",
        "    return resumo_texto\n",
        "\n",
        "# Texto fornecido\n",
        "texto = \"Aurora's Realm: The Enchanted Adventure narra a história de Liam, Elena e sua filha Aurora em um mundo mágico onde elfos, fadas e humanos vivem em harmonia. Quando um feiticeiro das trevas chamado Malachai ameaça o equilíbrio, Liam e Elena se unem a um grupo de heróis para derrotá-lo. Após vencer Malachai, uma reviravolta sombria acontece quando um seguidor do feiticeiro sequestra Aurora, desencadeando uma nova jornada de perigos e desafios. Com a ajuda de aliados, Liam e Elena enfrentam tribos poderosas e reúnem forças para resgatar sua filha e restaurar a paz. Na nova era do jogo, os jogadores exploram o mundo mágico, participam de batalhas, formam laços familiares e de amizade, além de poderem se envolver em atividades como pesca e cultivo de jardins. Com cada desafio enfrentado, os jogadores desenvolvem suas habilidades e se tornam parte de uma aventura emocionante e encantadora em Aurora's Realm - O Mundo dos Sonhos.\"\n",
        "\n",
        "# Resumir o texto\n",
        "resumo = resumir_texto(texto)\n",
        "\n",
        "print(\"Resumo automático:\")\n",
        "print(resumo)\n"
      ],
      "metadata": {
        "id": "QimyIOwt8jqX"
      },
      "execution_count": null,
      "outputs": []
    }
  ]
}